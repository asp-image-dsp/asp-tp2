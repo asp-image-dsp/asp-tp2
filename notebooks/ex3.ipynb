{
 "cells": [
  {
   "cell_type": "markdown",
   "metadata": {},
   "source": [
    "## Estimación de h(n)\n",
    "Contando con x(n) e y(n)\n",
    "\n",
    "\n",
    "$\\textbf{w}_o = R^{-1}\\cdot \\textbf{p}$\n",
    "\n",
    "$J(\\textbf{w}_o) = \\sigma_y^2 - \\textbf{p}^H\\cdot \\textbf{w}_o$\n",
    "\n"
   ]
  },
  {
   "cell_type": "markdown",
   "metadata": {},
   "source": []
  }
 ],
 "metadata": {
  "kernelspec": {
   "display_name": "Python 3",
   "language": "python",
   "name": "python3"
  },
  "language_info": {
   "codemirror_mode": {
    "name": "ipython",
    "version": 3
   },
   "file_extension": ".py",
   "mimetype": "text/x-python",
   "name": "python",
   "nbconvert_exporter": "python",
   "pygments_lexer": "ipython3",
   "version": "3.7.6"
  }
 },
 "nbformat": 4,
 "nbformat_minor": 4
}
